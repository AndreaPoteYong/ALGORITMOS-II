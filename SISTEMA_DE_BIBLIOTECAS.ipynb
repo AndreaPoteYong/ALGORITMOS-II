{
  "nbformat": 4,
  "nbformat_minor": 0,
  "metadata": {
    "colab": {
      "provenance": [],
      "authorship_tag": "ABX9TyPt5rGlZGZODe17FekdoAVv",
      "include_colab_link": true
    },
    "kernelspec": {
      "name": "python3",
      "display_name": "Python 3"
    },
    "language_info": {
      "name": "python"
    }
  },
  "cells": [
    {
      "cell_type": "markdown",
      "metadata": {
        "id": "view-in-github",
        "colab_type": "text"
      },
      "source": [
        "<a href=\"https://colab.research.google.com/github/AndreaPoteYong/ALGORITMOS-II/blob/main/SISTEMA_DE_BIBLIOTECAS.ipynb\" target=\"_parent\"><img src=\"https://colab.research.google.com/assets/colab-badge.svg\" alt=\"Open In Colab\"/></a>"
      ]
    },
    {
      "cell_type": "markdown",
      "source": [
        "# **TRABAJO: SISTEMA DE BIBLIOTECAS**\n",
        "\n",
        "BY: BETANIA ALEJOS, ANDREA POTE"
      ],
      "metadata": {
        "id": "U0t6CQkF_sQZ"
      }
    },
    {
      "cell_type": "markdown",
      "source": [
        "# **Caso:**\n",
        "Una biblioteca necesita un sistema para gestionar sus libros, usuarios y préstamos. El\n",
        "sistema debe permitir:\n",
        "1. Registrar libros (título, autor, año de publicación, género, etc.).\n",
        "2. Registrar usuarios (nombre, ID, correo electrónico, etc.).\n",
        "3. Realizar préstamos de libros a usuarios.\n",
        "4. Devolver libros prestados.\n",
        "5. Mostrar información sobre libros disponibles, libros prestados y usuarios.\n"
      ],
      "metadata": {
        "id": "EOEgOrTUAC1g"
      }
    },
    {
      "cell_type": "markdown",
      "source": [
        "# **DESARROLLO**"
      ],
      "metadata": {
        "id": "Y7f7TBHxAHi_"
      }
    },
    {
      "cell_type": "code",
      "execution_count": null,
      "metadata": {
        "colab": {
          "base_uri": "https://localhost:8080/"
        },
        "id": "rxdir-KX_Wkr",
        "outputId": "8f89a50b-2199-4258-83c1-6c8ad6dac94b"
      },
      "outputs": [
        {
          "output_type": "stream",
          "name": "stdout",
          "text": [
            "\n",
            "1. Registrar libro\n",
            "2. Registrar usuario\n",
            "3. Prestar libro\n",
            "4. Devolver libro\n",
            "5. Mostrar libros\n",
            "6. Mostrar usuarios\n",
            "7. Salir\n"
          ]
        }
      ],
      "source": [
        "class Libro:  # Definición de la clase Libro\n",
        "    def __init__(self, titulo, autor, anio, genero):\n",
        "        self.titulo = titulo  # Título del libro\n",
        "        self.autor = autor  # Autor del libro\n",
        "        self.anio = anio  # Año de publicación\n",
        "        self.genero = genero  # Género del libro\n",
        "        self.prestado = False  # Estado del libro (si está prestado o no)\n",
        "\n",
        "\n",
        "class Usuario:\n",
        "    def __init__(self, nombre, id_usuario, correo):\n",
        "        self.nombre = nombre  # Nombre del usuario\n",
        "        self.id_usuario = id_usuario  # ID del usuario\n",
        "        self.correo = correo  # Correo electrónico del usuario\n",
        "        self.libros_prestados = []  # Lista de libros prestados por el usuario\n",
        "\n",
        "class Biblioteca:\n",
        "    def __init__(self):\n",
        "        self.libros = []  # Lista de libros en la biblioteca\n",
        "        self.usuarios = []  # Lista de usuarios registrados\n",
        "\n",
        "# A partir de este punto se definen los métodos\n",
        "\n",
        "# Registrar libros\n",
        "    def registrar_libro(self):\n",
        "        titulo = input(\"Ingrese el título del libro: \")\n",
        "        autor = input(\"Ingrese el autor del libro: \")\n",
        "        anio = input(\"Ingrese el año de publicación: \")\n",
        "        genero = input(\"Ingrese el género del libro: \")\n",
        "\n",
        "        libro = Libro(titulo, autor, anio, genero)\n",
        "        self.libros.append(libro)\n",
        "        print(f\"Libro registrado: {libro.titulo} de {libro.autor} ({libro.anio}, {libro.genero})\")\n",
        "\n",
        "# Registrar usuarios\n",
        "    def registrar_usuario(self):\n",
        "        nombre = input(\"Ingrese el nombre del usuario: \")\n",
        "        id_usuario = input(\"Ingrese el ID del usuario: \")\n",
        "        correo = input(\"Ingrese el correo del usuario: \")\n",
        "\n",
        "        usuario = Usuario(nombre, id_usuario, correo)\n",
        "        self.usuarios.append(usuario)\n",
        "        print(f\"Usuario registrado: {usuario.nombre} (ID: {usuario.id_usuario}, Correo: {usuario.correo})\")\n",
        "\n",
        "    def prestar_libro(self):\n",
        "        titulo = input(\"Ingrese el título del libro a prestar: \")\n",
        "        id_usuario = input(\"Ingrese el ID del usuario: \")\n",
        "\n",
        "        libro = next((l for l in self.libros if l.titulo == titulo and not l.prestado), None)\n",
        "        usuario = next((u for u in self.usuarios if u.id_usuario == id_usuario), None)\n",
        "\n",
        "        if libro and usuario:\n",
        "            libro.prestado = True\n",
        "            usuario.libros_prestados.append(libro)\n",
        "            print(f\"Libro '{libro.titulo}' prestado a {usuario.nombre}.\")\n",
        "        else:\n",
        "            print(\"El libro no está disponible o el usuario no está registrado.\")\n",
        "\n",
        "    def devolver_libro(self):\n",
        "        titulo = input(\"Ingrese el título del libro a devolver: \")\n",
        "        id_usuario = input(\"Ingrese el ID del usuario: \")\n",
        "\n",
        "        usuario = next((u for u in self.usuarios if u.id_usuario == id_usuario), None)\n",
        "        libro = next((l for l in usuario.libros_prestados if l.titulo == titulo), None) if usuario else None\n",
        "\n",
        "        if usuario and libro:\n",
        "            libro.prestado = False\n",
        "            usuario.libros_prestados.remove(libro)\n",
        "            print(f\"Libro '{libro.titulo}' devuelto por {usuario.nombre}.\")\n",
        "        else:\n",
        "            print(\"El usuario no tiene este libro prestado o no existe.\")\n",
        "\n",
        "    def mostrar_libros(self):\n",
        "        print(\"\\nLibros en la biblioteca:\")\n",
        "        for libro in self.libros:\n",
        "            estado = \"Prestado\" if libro.prestado else \"Disponible\"\n",
        "            print(f\"{libro.titulo} - {libro.autor} ({libro.anio}, {libro.genero}) - {estado}\")\n",
        "\n",
        "    def mostrar_usuarios(self):\n",
        "        print(\"\\nUsuarios registrados:\")\n",
        "        for usuario in self.usuarios:\n",
        "            print(f\"{usuario.nombre} (ID: {usuario.id_usuario}, Correo: {usuario.correo})\")\n",
        "\n",
        "# Interacción con el usuario\n",
        "biblioteca = Biblioteca()\n",
        "\n",
        "while True:\n",
        "    print(\"\\n1. Registrar libro\")\n",
        "    print(\"2. Registrar usuario\")\n",
        "    print(\"3. Prestar libro\")\n",
        "    print(\"4. Devolver libro\")\n",
        "    print(\"5. Mostrar libros\")\n",
        "    print(\"6. Mostrar usuarios\")\n",
        "    print(\"7. Salir\")\n",
        "\n",
        "    opcion = input(\"Seleccione una opción: \")\n",
        "\n",
        "    if opcion == \"1\":\n",
        "        biblioteca.registrar_libro()\n",
        "    elif opcion == \"2\":\n",
        "        biblioteca.registrar_usuario()\n",
        "    elif opcion == \"3\":\n",
        "        biblioteca.prestar_libro()\n",
        "    elif opcion == \"4\":\n",
        "        biblioteca.devolver_libro()\n",
        "    elif opcion == \"5\":\n",
        "        biblioteca.mostrar_libros()\n",
        "    elif opcion == \"6\":\n",
        "        biblioteca.mostrar_usuarios()\n",
        "    elif opcion == \"7\":\n",
        "        break\n",
        "    else:\n",
        "        print(\"Opción no válida, intente de nuevo.\")\n"
      ]
    },
    {
      "cell_type": "code",
      "source": [],
      "metadata": {
        "id": "Ew8o4rq3It3v"
      },
      "execution_count": null,
      "outputs": []
    },
    {
      "cell_type": "code",
      "source": [],
      "metadata": {
        "id": "dJcOV4s7ALVP"
      },
      "execution_count": null,
      "outputs": []
    }
  ]
}
{
  "nbformat": 4,
  "nbformat_minor": 0,
  "metadata": {
    "colab": {
      "provenance": [],
      "include_colab_link": true
    },
    "kernelspec": {
      "name": "python3",
      "display_name": "Python 3"
    },
    "language_info": {
      "name": "python"
    }
  },
  "cells": [
    {
      "cell_type": "markdown",
      "metadata": {
        "id": "view-in-github",
        "colab_type": "text"
      },
      "source": [
        "<a href=\"https://colab.research.google.com/github/AndreaPoteYong/ALGORITMOS-II/blob/main/SolucionManejoDeErrores.ipynb\" target=\"_parent\"><img src=\"https://colab.research.google.com/assets/colab-badge.svg\" alt=\"Open In Colab\"/></a>"
      ]
    },
    {
      "cell_type": "markdown",
      "source": [
        "**ALGORITMOS II CORTE 3**\n",
        "\n",
        "ANDREA CAROLINA POTE YONG\n",
        "\n",
        "\n",
        "*Solucione los siguientes ejercicios aplicando lo aprendido en manejo de errores.*"
      ],
      "metadata": {
        "id": "xS8RQSB8LSL6"
      }
    },
    {
      "cell_type": "markdown",
      "source": [
        "1. Este código lanza un error llamado ZeroDivisionError porque matemáticamente no se puede dividir entre 0"
      ],
      "metadata": {
        "id": "_fT3UPEY6mRA"
      }
    },
    {
      "cell_type": "code",
      "source": [
        "# 1. División por cero\n",
        "print(\"Resultado:\", 10 / 0)"
      ],
      "metadata": {
        "id": "7XxSDxWGK2UA"
      },
      "execution_count": null,
      "outputs": []
    },
    {
      "cell_type": "markdown",
      "source": [
        "Se usa try-except porque la división puede fallar en tiempo de ejecución si el denominador es cero.\n",
        "Si ocurre una excepción (error), pasa al except.\n",
        "ZeroDivisionError: captura ese error específico y muestra un mensaje y evita que el programa se detenga bruscamente."
      ],
      "metadata": {
        "id": "cHQP4aMh6sVf"
      }
    },
    {
      "cell_type": "code",
      "source": [
        "try:\n",
        "    resultado = 10 / 0\n",
        "    print(\"Resultado:\", resultado)\n",
        "except ZeroDivisionError:\n",
        "    print(\"Error: No se puede dividir entre cero.\")"
      ],
      "metadata": {
        "id": "-iq-ufhj6IIQ"
      },
      "execution_count": null,
      "outputs": []
    },
    {
      "cell_type": "code",
      "execution_count": null,
      "metadata": {
        "id": "CBEqgaUPKxP6"
      },
      "outputs": [],
      "source": [
        "# 2. Conversión de tipo incorrecta\n",
        "edad = int(\"veinte\")"
      ]
    },
    {
      "cell_type": "markdown",
      "source": [
        "Uso assert porque \"veinte\" no está compuesto solo por números. Por eso se detuvo el programa y lanzó ese mensaje."
      ],
      "metadata": {
        "id": "P3K2x6TE8QrZ"
      }
    },
    {
      "cell_type": "code",
      "source": [
        "texto = \"veinte\"\n",
        "assert texto.isdigit(), \"El valor debe contener solo dígitos\"\n",
        "edad = int(texto)\n",
        "print(\"Edad:\", edad)\n",
        "\n"
      ],
      "metadata": {
        "id": "H_Vw2fOn7rXF"
      },
      "execution_count": null,
      "outputs": []
    },
    {
      "cell_type": "code",
      "source": [
        "# 3. Índice fuera de rango\n",
        "lista = [1, 2, 3]\n",
        "print(\"Elemento:\", lista[5])"
      ],
      "metadata": {
        "id": "aG1hvYgzK9Qb"
      },
      "execution_count": null,
      "outputs": []
    },
    {
      "cell_type": "markdown",
      "source": [
        "Con IF estamos validando un acceso a una lista."
      ],
      "metadata": {
        "id": "JQuR3i059c31"
      }
    },
    {
      "cell_type": "code",
      "source": [
        "lista = [1, 2, 3]\n",
        "indice = 5\n",
        "if indice < len(lista):\n",
        "    print(\"Elemento:\", lista[indice])\n",
        "else:\n",
        "    print(\"Error: Índice fuera de rango.\")\n"
      ],
      "metadata": {
        "id": "1kg7ZaUM9a_W"
      },
      "execution_count": null,
      "outputs": []
    },
    {
      "cell_type": "code",
      "source": [
        "# 4. Clave inexistente en diccionario\n",
        "persona = {\"nombre\": \"Ana\"}\n",
        "print(\"Edad:\", persona[\"edad\"])"
      ],
      "metadata": {
        "id": "WhnChEYaLA0l"
      },
      "execution_count": null,
      "outputs": []
    },
    {
      "cell_type": "markdown",
      "source": [
        "Con IF previene el error fácilmente, gual que con listas, es mejor validar antes de acceder."
      ],
      "metadata": {
        "id": "lP8V_obj-DXL"
      }
    },
    {
      "cell_type": "code",
      "source": [
        "persona = {\"nombre\": \"Ana\"}\n",
        "if \"edad\" in persona:\n",
        "    print(\"Edad:\", persona[\"edad\"])\n",
        "else:\n",
        "    print(\"Error: La clave 'edad' no existe.\")\n"
      ],
      "metadata": {
        "id": "M9dHw3oL-BzF"
      },
      "execution_count": null,
      "outputs": []
    },
    {
      "cell_type": "code",
      "source": [
        "# 5. Archivo inexistente\n",
        "archivo = open(\"archivo_inexistente.txt\", \"r\")\n",
        "contenido = archivo.read()\n",
        "archivo.close()"
      ],
      "metadata": {
        "id": "LGODv0yRLFK1"
      },
      "execution_count": null,
      "outputs": []
    },
    {
      "cell_type": "markdown",
      "source": [
        "Con Try-except no puedes predecir si el archivo realmente existe o no, es ideal si se depende e algo externo, Uso with por que cierra automáticamente el archivo aunque haya errores y uso FileNotFoundError porque eso ocurre cuando el archivo no se encuentra.\n",
        "\n"
      ],
      "metadata": {
        "id": "SM0r6O-f-g4Z"
      }
    },
    {
      "cell_type": "code",
      "source": [
        "try:\n",
        "    with open(\"archivo_inexistente.txt\", \"r\") as archivo:\n",
        "        contenido = archivo.read()\n",
        "        print(contenido)\n",
        "except FileNotFoundError:\n",
        "    print(\"Error: El archivo no existe.\")\n"
      ],
      "metadata": {
        "id": "sRUJ8yDf-eQB"
      },
      "execution_count": null,
      "outputs": []
    },
    {
      "cell_type": "markdown",
      "source": [
        "6. Nunca se declaró saludo, Se lanza NameError."
      ],
      "metadata": {
        "id": "-hDr9kgC_09d"
      }
    },
    {
      "cell_type": "code",
      "source": [
        "# 6. Variable no definida\n",
        "print(saludo)"
      ],
      "metadata": {
        "id": "ERm-k6SeLHFU"
      },
      "execution_count": null,
      "outputs": []
    },
    {
      "cell_type": "markdown",
      "source": [
        "Uso try por que no puedo verificar con if si una variable no declarada existe y NameError es el error para este caso."
      ],
      "metadata": {
        "id": "WyUWoo6U_kHN"
      }
    },
    {
      "cell_type": "code",
      "source": [
        "try:\n",
        "    print(saludo)\n",
        "except NameError:\n",
        "    print(\"Error: La variable 'saludo' no está definida.\")\n"
      ],
      "metadata": {
        "id": "LVxvknBK_jFX"
      },
      "execution_count": null,
      "outputs": []
    },
    {
      "cell_type": "markdown",
      "source": [
        "7. Se lanza un error con raise porque se sabe que tener saldo negativo no es válido."
      ],
      "metadata": {
        "id": "FzXJAi3iAFyD"
      }
    },
    {
      "cell_type": "code",
      "source": [
        "# 7. Error personalizado\n",
        "saldo = -100\n",
        "if saldo < 0:\n",
        "    raise ValueError(\"El saldo no puede ser negativo\")"
      ],
      "metadata": {
        "id": "a5truiLTLL1u"
      },
      "execution_count": null,
      "outputs": []
    },
    {
      "cell_type": "markdown",
      "source": [
        "Uso assert por que se que un saldo negativo nunca debería pasar."
      ],
      "metadata": {
        "id": "FGzPnawaAQ1j"
      }
    },
    {
      "cell_type": "code",
      "source": [
        "saldo = -100\n",
        "assert saldo >= 0, \"El saldo no puede ser negativo\"\n",
        "print(\"Saldo válido:\", saldo)\n"
      ],
      "metadata": {
        "id": "gzpcRmn2ALPM"
      },
      "execution_count": null,
      "outputs": []
    },
    {
      "cell_type": "code",
      "source": [],
      "metadata": {
        "id": "7bkXDSQABoR-"
      },
      "execution_count": null,
      "outputs": []
    }
  ]
}
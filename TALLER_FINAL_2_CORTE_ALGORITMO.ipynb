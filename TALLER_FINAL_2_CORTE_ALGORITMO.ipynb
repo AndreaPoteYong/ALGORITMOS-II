{
  "nbformat": 4,
  "nbformat_minor": 0,
  "metadata": {
    "colab": {
      "provenance": [],
      "include_colab_link": true
    },
    "kernelspec": {
      "name": "python3",
      "display_name": "Python 3"
    },
    "language_info": {
      "name": "python"
    }
  },
  "cells": [
    {
      "cell_type": "markdown",
      "metadata": {
        "id": "view-in-github",
        "colab_type": "text"
      },
      "source": [
        "<a href=\"https://colab.research.google.com/github/AndreaPoteYong/ALGORITMOS-II/blob/main/TALLER_FINAL_2_CORTE_ALGORITMO.ipynb\" target=\"_parent\"><img src=\"https://colab.research.google.com/assets/colab-badge.svg\" alt=\"Open In Colab\"/></a>"
      ]
    },
    {
      "cell_type": "markdown",
      "source": [
        "Nombre del Estudiante: A**ndrea Pote Yong – Betania Alejos Rodriguez.**\n",
        "Correo Electrónico: **andrea.pote@unicafam.edu.co – betania.alejos@unicafam.edu.co**\n",
        "Fecha: **16 – abril - 2025**\n",
        "Materia: **Algoritmos II**\n"
      ],
      "metadata": {
        "id": "kxpG5_ERyvWM"
      }
    },
    {
      "cell_type": "markdown",
      "source": [
        "## **Paradigmas de Programación en Python (excluyendo POO)**\n",
        "\n",
        "\n"
      ],
      "metadata": {
        "id": "7Wm3zpnuzDsk"
      }
    },
    {
      "cell_type": "markdown",
      "source": [
        "# **1. INTRODUCCION**\n",
        "**¿Qué son los paradigmas de programación?**\n",
        "Un paradigma es una forma  de programar, como un conjunto de principios que guían cómo se organiza y escribe el código\n",
        "\n",
        "**Paradigma Funcional**\n",
        "- Basado en funciones puras, sin efectos secundarios.\n",
        "- Datos inmutables.\n",
        "- Se enfoca en “qué” se quiere hacer, no “cómo”.\n",
        "- Usado en ciencia de datos, procesamiento de listas, lógica declarativa.\n",
        "\n"
      ],
      "metadata": {
        "id": "hyI-kiYg3HfP"
      }
    },
    {
      "cell_type": "code",
      "source": [
        "# Transformar una lista de datos\n",
        "data = [1, 2, 3, 4]\n",
        "resultado = list(map(lambda x: x**2, data))\n",
        "print(resultado)"
      ],
      "metadata": {
        "colab": {
          "base_uri": "https://localhost:8080/"
        },
        "id": "VtDEE7WF3zfx",
        "outputId": "9abaabbd-9056-4a65-af95-026d355b9691"
      },
      "execution_count": null,
      "outputs": [
        {
          "output_type": "stream",
          "name": "stdout",
          "text": [
            "[1, 4, 9, 16]\n"
          ]
        }
      ]
    },
    {
      "cell_type": "markdown",
      "source": [
        "**Paradigma Procedural**\n",
        "- Basado en procedimientos o funciones que modifican el estado.\n",
        "- Usa estructuras de control (if, for, while).\n",
        "- Es ideal para scripts simples, automatización, tareas secuenciales."
      ],
      "metadata": {
        "id": "KvnKOUjM3yh0"
      }
    },
    {
      "cell_type": "code",
      "source": [
        "def saludar_usuario(nombre):\n",
        "    print(f\"Hola, {nombre}!\")\n",
        "\n",
        "saludar_usuario(\"Andrea y Betania\")"
      ],
      "metadata": {
        "colab": {
          "base_uri": "https://localhost:8080/"
        },
        "id": "4iK43x9fzV9J",
        "outputId": "d1b05515-e5c9-4b5a-b033-f892f5c32046"
      },
      "execution_count": null,
      "outputs": [
        {
          "output_type": "stream",
          "name": "stdout",
          "text": [
            "Hola, Andrea y Betania!\n"
          ]
        }
      ]
    },
    {
      "cell_type": "markdown",
      "source": [
        "**Comparación  con POO**\n",
        "- POO organiza el código en clases y objetos.\n",
        "- Funcional y procedural pueden ser más simples y directos para tareas pequeñas o procesamiento de datos."
      ],
      "metadata": {
        "id": "tZsFFgjl4J57"
      }
    },
    {
      "cell_type": "markdown",
      "source": [
        "# **2. EXPLICACION TECNICA**\n",
        "\n",
        "**Programacion funcional**"
      ],
      "metadata": {
        "id": "dhY9fMLh5t4r"
      }
    },
    {
      "cell_type": "code",
      "source": [
        "# Multiplicar todos los números por 2\n",
        "numeros = [1, 2, 3]\n",
        "resultado = list(map(lambda x: x*2, numeros))\n",
        "print(resultado)"
      ],
      "metadata": {
        "colab": {
          "base_uri": "https://localhost:8080/"
        },
        "id": "w1PYepme5767",
        "outputId": "7665f4f7-b719-42d6-b3f9-5f40d23f82d6"
      },
      "execution_count": null,
      "outputs": [
        {
          "output_type": "stream",
          "name": "stdout",
          "text": [
            "[4, 16]\n"
          ]
        }
      ]
    },
    {
      "cell_type": "markdown",
      "source": [
        "**Programacion Procedual**"
      ],
      "metadata": {
        "id": "m2gX-thq5-pk"
      }
    },
    {
      "cell_type": "code",
      "source": [
        "def calcular_promedio(notas):\n",
        "    suma = sum(notas)\n",
        "    promedio = suma / len(notas)\n",
        "    return promedio\n",
        "\n",
        "print(calcular_promedio([10, 8, 7]))  # 8.33\n"
      ],
      "metadata": {
        "colab": {
          "base_uri": "https://localhost:8080/"
        },
        "id": "vNbWqSxY6Ewq",
        "outputId": "446bd841-5372-4e12-bbd8-0f2eb0905c36"
      },
      "execution_count": null,
      "outputs": [
        {
          "output_type": "stream",
          "name": "stdout",
          "text": [
            "[4, 16]\n"
          ]
        }
      ]
    },
    {
      "cell_type": "markdown",
      "source": [
        "# **DESARROLLO**\n",
        "\n",
        "**Problema:** Filtrar números pares de una lista, elevarlos al cuadrado y mostrar el resultado."
      ],
      "metadata": {
        "id": "7jidovbP6S2C"
      }
    },
    {
      "cell_type": "markdown",
      "source": [
        "**Solucion Funcional**"
      ],
      "metadata": {
        "id": "547EQ8RG6nZp"
      }
    },
    {
      "cell_type": "code",
      "source": [
        "def procesar_lista_funcional(lista):\n",
        "    return list(map(lambda x: x**2, filter(lambda x: x % 2 == 0, lista)))\n",
        "\n",
        "numeros = [1, 2, 3, 4, 5, 6]\n",
        "resultado = procesar_lista_funcional(numeros)\n",
        "print(\"Funcional:\", resultado)\n"
      ],
      "metadata": {
        "colab": {
          "base_uri": "https://localhost:8080/"
        },
        "id": "246xIQk86lLh",
        "outputId": "c1dcc021-fc33-4bca-8d55-c14c5ce33d28"
      },
      "execution_count": null,
      "outputs": [
        {
          "output_type": "stream",
          "name": "stdout",
          "text": [
            "Funcional: [4, 16, 36]\n"
          ]
        }
      ]
    },
    {
      "cell_type": "markdown",
      "source": [
        "**Solucion Procedural**"
      ],
      "metadata": {
        "id": "-sPuydDn6vxI"
      }
    },
    {
      "cell_type": "code",
      "source": [
        "def procesar_lista_procedural(lista):\n",
        "    resultado = []\n",
        "    for num in lista:\n",
        "        if num % 2 == 0:\n",
        "            resultado.append(num ** 2)\n",
        "    return resultado\n",
        "\n",
        "numeros = [1, 2, 3, 4, 5, 6]\n",
        "resultado = procesar_lista_procedural(numeros)\n",
        "print(\"Procedural:\", resultado)\n"
      ],
      "metadata": {
        "colab": {
          "base_uri": "https://localhost:8080/"
        },
        "id": "f23AQZpP6JLO",
        "outputId": "d4a6a683-57bf-4953-ce0c-06c0fe0a4112"
      },
      "execution_count": null,
      "outputs": [
        {
          "output_type": "stream",
          "name": "stdout",
          "text": [
            "Procedural: [4, 16, 36]\n"
          ]
        }
      ]
    },
    {
      "cell_type": "markdown",
      "source": [
        "# **CONCLUSIONES**\n",
        "\n",
        "**a. ¿Cuándo elegirían cada paradigma?**\n",
        "- Funcional: Procesamiento de listas, transformación de datos, funciones matemáticas.\n",
        "- Procedural: Scripts, flujos paso a paso, tareas automatizadas.\n",
        "\n",
        "**b. ¿Qué dificultades encontraron?**\n",
        "- Funcional puede ser difícil de leer.\n",
        "- Procedural puede ser muy largo para tareas simples.\n",
        "\n",
        "**c. ¿Cómo podrían combinarse en un proyecto?**\n",
        "- Procedural para controlar el flujo del programa.\n",
        "- Funcional para limpiar o transformar datos eficientemente.\n",
        "\n"
      ],
      "metadata": {
        "id": "oZ93LBRH67Mo"
      }
    },
    {
      "cell_type": "code",
      "source": [],
      "metadata": {
        "id": "qSg6TTns64X5"
      },
      "execution_count": null,
      "outputs": []
    }
  ]
}
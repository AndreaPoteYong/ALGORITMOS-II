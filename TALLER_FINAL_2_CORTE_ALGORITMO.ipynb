{
  "nbformat": 4,
  "nbformat_minor": 0,
  "metadata": {
    "colab": {
      "provenance": [],
      "include_colab_link": true
    },
    "kernelspec": {
      "name": "python3",
      "display_name": "Python 3"
    },
    "language_info": {
      "name": "python"
    }
  },
  "cells": [
    {
      "cell_type": "markdown",
      "metadata": {
        "id": "view-in-github",
        "colab_type": "text"
      },
      "source": [
        "<a href=\"https://colab.research.google.com/github/AndreaPoteYong/ALGORITMOS-II/blob/main/TALLER_FINAL_2_CORTE_ALGORITMO.ipynb\" target=\"_parent\"><img src=\"https://colab.research.google.com/assets/colab-badge.svg\" alt=\"Open In Colab\"/></a>"
      ]
    },
    {
      "cell_type": "markdown",
      "source": [
        "Nombre del Estudiante: A**ndrea Pote Yong – Betania Alejos Rodriguez.**\n",
        "Correo Electrónico: **andrea.pote@unicafam.edu.co – betania.alejos@unicafam.edu.co**\n",
        "Fecha: **16 – abril - 2025**\n",
        "Materia: **Algoritmos II**\n"
      ],
      "metadata": {
        "id": "kxpG5_ERyvWM"
      }
    },
    {
      "cell_type": "markdown",
      "source": [
        "## **Paradigmas de Programación en Python (excluyendo POO)**\n",
        "\n",
        "\n"
      ],
      "metadata": {
        "id": "7Wm3zpnuzDsk"
      }
    },
    {
      "cell_type": "markdown",
      "source": [
        "# **1. INTRODUCCION**\n",
        "**¿Qué son los paradigmas de programación?**\n",
        "Un paradigma es una forma  de programar, como un conjunto de principios que guían cómo se organiza y escribe el código\n",
        "\n",
        "**Paradigma Funcional**\n",
        "- Basado en funciones puras, sin efectos secundarios.\n",
        "- Datos inmutables.\n",
        "- Se enfoca en “qué” se quiere hacer, no “cómo”.\n",
        "- Usado en ciencia de datos, procesamiento de listas, lógica declarativa.\n",
        "\n"
      ],
      "metadata": {
        "id": "hyI-kiYg3HfP"
      }
    },
    {
      "cell_type": "code",
      "source": [
        "# Transformar una lista de datos\n",
        "data = [1, 2, 3, 4]\n",
        "resultado = list(map(lambda x: x**2, data))\n",
        "print(resultado)"
      ],
      "metadata": {
        "colab": {
          "base_uri": "https://localhost:8080/"
        },
        "id": "VtDEE7WF3zfx",
        "outputId": "bf56b039-1273-436d-d414-040e232e2e9d"
      },
      "execution_count": null,
      "outputs": [
        {
          "output_type": "stream",
          "name": "stdout",
          "text": [
            "[1, 4, 9, 16]\n"
          ]
        }
      ]
    },
    {
      "cell_type": "markdown",
      "source": [
        "**Paradigma Procedural**\n",
        "- Basado en procedimientos o funciones que modifican el estado.\n",
        "- Usa estructuras de control (if, for, while).\n",
        "- Es ideal para scripts simples, automatización, tareas secuenciales."
      ],
      "metadata": {
        "id": "KvnKOUjM3yh0"
      }
    },
    {
      "cell_type": "code",
      "source": [
        "def saludar_usuario(nombre):\n",
        "    print(f\"Hola, {nombre}!\")\n",
        "\n",
        "saludar_usuario(\"Andrea y Betania\")"
      ],
      "metadata": {
        "colab": {
          "base_uri": "https://localhost:8080/"
        },
        "id": "4iK43x9fzV9J",
        "outputId": "d1b05515-e5c9-4b5a-b033-f892f5c32046"
      },
      "execution_count": null,
      "outputs": [
        {
          "output_type": "stream",
          "name": "stdout",
          "text": [
            "Hola, Andrea y Betania!\n"
          ]
        }
      ]
    },
    {
      "cell_type": "markdown",
      "source": [
        "**Comparación  con POO**\n",
        "- POO organiza el código en clases y objetos.\n",
        "- Funcional y procedural pueden ser más simples y directos para tareas pequeñas o procesamiento de datos."
      ],
      "metadata": {
        "id": "tZsFFgjl4J57"
      }
    },
    {
      "cell_type": "markdown",
      "source": [
        "# **2. EXPLICACION TECNICA**\n",
        "\n",
        "**Programacion funcional**"
      ],
      "metadata": {
        "id": "dhY9fMLh5t4r"
      }
    },
    {
      "cell_type": "code",
      "source": [
        "# Multiplicar todos los números por 2\n",
        "numeros = [1, 2, 3]\n",
        "resultado = list(map(lambda x: x*2, numeros))\n",
        "print(resultado)"
      ],
      "metadata": {
        "colab": {
          "base_uri": "https://localhost:8080/"
        },
        "id": "w1PYepme5767",
        "outputId": "7665f4f7-b719-42d6-b3f9-5f40d23f82d6"
      },
      "execution_count": null,
      "outputs": [
        {
          "output_type": "stream",
          "name": "stdout",
          "text": [
            "[4, 16]\n"
          ]
        }
      ]
    },
    {
      "cell_type": "markdown",
      "source": [
        "**Programacion Procedual**"
      ],
      "metadata": {
        "id": "m2gX-thq5-pk"
      }
    },
    {
      "cell_type": "code",
      "source": [
        "def calcular_promedio(notas):\n",
        "    suma = sum(notas)\n",
        "    promedio = suma / len(notas)\n",
        "    return promedio\n",
        "\n",
        "print(calcular_promedio([10, 8, 7]))"
      ],
      "metadata": {
        "colab": {
          "base_uri": "https://localhost:8080/"
        },
        "id": "vNbWqSxY6Ewq",
        "outputId": "446bd841-5372-4e12-bbd8-0f2eb0905c36"
      },
      "execution_count": null,
      "outputs": [
        {
          "output_type": "stream",
          "name": "stdout",
          "text": [
            "[4, 16]\n"
          ]
        }
      ]
    },
    {
      "cell_type": "markdown",
      "source": [
        "# **DESARROLLO**\n",
        "\n",
        "**Problema:** Filtrar números pares de una lista, elevarlos al cuadrado y mostrar el resultado."
      ],
      "metadata": {
        "id": "7jidovbP6S2C"
      }
    },
    {
      "cell_type": "markdown",
      "source": [
        "**Solucion Funcional**"
      ],
      "metadata": {
        "id": "547EQ8RG6nZp"
      }
    },
    {
      "cell_type": "code",
      "source": [
        "def procesar_lista_funcional(lista):\n",
        "    return list(map(lambda x: x**2, filter(lambda x: x % 2 == 0, lista)))\n",
        "\n",
        "numeros = [1, 2, 3, 4, 5, 6]\n",
        "resultado = procesar_lista_funcional(numeros)\n",
        "print(\"Funcional:\", resultado)\n"
      ],
      "metadata": {
        "colab": {
          "base_uri": "https://localhost:8080/"
        },
        "id": "246xIQk86lLh",
        "outputId": "c1dcc021-fc33-4bca-8d55-c14c5ce33d28"
      },
      "execution_count": null,
      "outputs": [
        {
          "output_type": "stream",
          "name": "stdout",
          "text": [
            "Funcional: [4, 16, 36]\n"
          ]
        }
      ]
    },
    {
      "cell_type": "markdown",
      "source": [
        "**Solucion Procedural**"
      ],
      "metadata": {
        "id": "-sPuydDn6vxI"
      }
    },
    {
      "cell_type": "code",
      "source": [
        "def procesar_lista_procedural(lista):\n",
        "    resultado = []\n",
        "    for num in lista:\n",
        "        if num % 2 == 0:\n",
        "            resultado.append(num ** 2)\n",
        "    return resultado\n",
        "\n",
        "numeros = [1, 2, 3, 4, 5, 6]\n",
        "resultado = procesar_lista_procedural(numeros)\n",
        "print(\"Procedural:\", resultado)\n"
      ],
      "metadata": {
        "colab": {
          "base_uri": "https://localhost:8080/"
        },
        "id": "f23AQZpP6JLO",
        "outputId": "d4a6a683-57bf-4953-ce0c-06c0fe0a4112"
      },
      "execution_count": null,
      "outputs": [
        {
          "output_type": "stream",
          "name": "stdout",
          "text": [
            "Procedural: [4, 16, 36]\n"
          ]
        }
      ]
    },
    {
      "cell_type": "markdown",
      "source": [
        "# **CONCLUSIONES**\n",
        "\n",
        "**a. ¿Cuándo elegirían cada paradigma?**\n",
        "- Funcional: Procesamiento de listas, transformación de datos, funciones matemáticas.\n",
        "- Procedural: Scripts, flujos paso a paso, tareas automatizadas.\n",
        "\n",
        "**b. ¿Qué dificultades encontraron?**\n",
        "- Funcional puede ser difícil de leer.\n",
        "- Procedural puede ser muy largo para tareas simples.\n",
        "\n",
        "**c. ¿Cómo podrían combinarse en un proyecto?**\n",
        "- Procedural para controlar el flujo del programa.\n",
        "- Funcional para limpiar o transformar datos eficientemente.\n",
        "\n"
      ],
      "metadata": {
        "id": "oZ93LBRH67Mo"
      }
    },
    {
      "cell_type": "markdown",
      "source": [
        "**PARADIGMA COMBINADO**\n",
        "\n",
        "**Problema:**\n"
      ],
      "metadata": {
        "id": "Xu59aF-MXo16"
      }
    },
    {
      "cell_type": "code",
      "source": [
        "import string\n",
        "from collections import Counter\n",
        "\n",
        "# Funcional: función para limpiar texto\n",
        "def limpiar_texto(texto):\n",
        "    texto = texto.lower()\n",
        "    texto = texto.translate(str.maketrans('', '', string.punctuation))\n",
        "    palabras = texto.split()\n",
        "    palabras = filter(lambda p: len(p) > 3, palabras)  # quitar palabras de 3 letras o menos\n",
        "    return palabras\n",
        "\n",
        "# Procedural: función para leer archivo y mostrar resultados\n",
        "def procesar_archivo(nombre_archivo):\n",
        "    try:\n",
        "        with open(nombre_archivo, \"r\", encoding=\"utf-8\") as archivo:\n",
        "            contenido = archivo.read()\n",
        "\n",
        "        palabras_limpias = limpiar_texto(contenido)\n",
        "        conteo = Counter(palabras_limpias)\n",
        "\n",
        "        print(\"\\nTop 10 palabras más frecuentes:\")\n",
        "        for palabra, frecuencia in conteo.most_common(10):\n",
        "            print(f\"{palabra}: {frecuencia}\")\n",
        "\n",
        "    except FileNotFoundError:\n",
        "        print(\"Archivo no encontrado. Asegúrate de que el archivo exista.\")\n",
        "\n",
        "# Ejecutar\n",
        "nombre = input(\"Nombre del archivo (con .txt): \")\n",
        "procesar_archivo(nombre)\n",
        "\n"
      ],
      "metadata": {
        "colab": {
          "base_uri": "https://localhost:8080/"
        },
        "id": "vWNz34FfXxkY",
        "outputId": "08b81886-ec07-4135-bb50-aa3b9f138264"
      },
      "execution_count": 5,
      "outputs": [
        {
          "output_type": "stream",
          "name": "stdout",
          "text": [
            "Nombre del archivo (con .txt): texto.txt\n",
            "\n",
            "Top 10 palabras más frecuentes:\n",
            "palabras: 4\n",
            "hola: 3\n",
            "ejemplo: 2\n",
            "este: 1\n",
            "simple: 1\n",
            "para: 1\n",
            "cómo: 1\n",
            "repiten: 1\n",
            "algunas: 1\n",
            "pueden: 1\n"
          ]
        }
      ]
    },
    {
      "cell_type": "markdown",
      "source": [
        "**¿Qué usa cada paradigma?**\n",
        "\n",
        "**Procedural:**\n",
        "- Leer el archivo\n",
        "- Mostrar los resultados\n",
        "- Organizar el flujo principal\n",
        "\n",
        "**Funcional:**\n",
        "- Limpiar el texto con funciones puras\n",
        "- Filtrar palabras\n",
        "- Contar palabras usando transformaciones\n",
        "\n",
        "Se cuentan las palabras más usadas en el archivo. Usamos programación procedural para leer el archivo y manejar errores, Luego usamos programación funcional para limpiar el texto, Usamos lambda con filter para eliminar palabras muy cortas, y translate para quitar la puntuación, Finalmente usamos la función Counter para contar cuántas veces aparece cada palabra y mostramos el top 10.\n",
        "\n",
        "* **Procedural** nos ayuda a controlar el flujo y la estructura general.\n",
        " **Funcional** nos permite transformar los datos de manera clara y sin cambiar el estado.*"
      ],
      "metadata": {
        "id": "E6G2VWpaaFdp"
      }
    },
    {
      "cell_type": "code",
      "source": [],
      "metadata": {
        "id": "0S6lnC2mYBOb"
      },
      "execution_count": null,
      "outputs": []
    }
  ]
}
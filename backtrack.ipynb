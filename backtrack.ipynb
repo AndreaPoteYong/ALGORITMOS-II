{
  "nbformat": 4,
  "nbformat_minor": 0,
  "metadata": {
    "colab": {
      "provenance": [],
      "authorship_tag": "ABX9TyMNXzH+32bSSxiEObGCpQQv",
      "include_colab_link": true
    },
    "kernelspec": {
      "name": "python3",
      "display_name": "Python 3"
    },
    "language_info": {
      "name": "python"
    }
  },
  "cells": [
    {
      "cell_type": "markdown",
      "metadata": {
        "id": "view-in-github",
        "colab_type": "text"
      },
      "source": [
        "<a href=\"https://colab.research.google.com/github/AndreaPoteYong/ALGORITMOS-II/blob/main/backtrack.ipynb\" target=\"_parent\"><img src=\"https://colab.research.google.com/assets/colab-badge.svg\" alt=\"Open In Colab\"/></a>"
      ]
    },
    {
      "cell_type": "code",
      "execution_count": null,
      "metadata": {
        "colab": {
          "base_uri": "https://localhost:8080/"
        },
        "id": "s_qINWtScTze",
        "outputId": "cd7b7e96-6de9-40a0-9c61-af8668703743"
      },
      "outputs": [
        {
          "output_type": "stream",
          "name": "stdout",
          "text": [
            "111\n",
            "112\n",
            "113\n",
            "121\n",
            "122\n",
            "123\n",
            "131\n",
            "132\n",
            "133\n",
            "211\n",
            "212\n",
            "213\n",
            "221\n",
            "222\n",
            "223\n",
            "231\n",
            "232\n",
            "233\n",
            "311\n",
            "312\n",
            "313\n",
            "321\n",
            "322\n",
            "323\n",
            "331\n",
            "332\n",
            "333\n"
          ]
        }
      ],
      "source": [
        "def backtrack(path, opciones):\n",
        "    if len(path) == 3:\n",
        "        print(path)\n",
        "        return\n",
        "    for o in opciones:\n",
        "        backtrack(path + o, opciones)\n",
        "\n",
        "backtrack(\"\", [\"1\", \"2\", \"3\"])\n",
        "\n",
        "\n"
      ]
    },
    {
      "cell_type": "code",
      "source": [
        "def imprimir_tablero(tablero):\n",
        "    for fila in tablero:\n",
        "        print(fila)\n",
        "\n",
        "def encontrar_vacio(tablero):\n",
        "    for i in range(9):\n",
        "        for j in range(9):\n",
        "            if tablero[i][j] == 0:\n",
        "                return (i, j)  # Devuelve la posición vacía\n",
        "    return None  # No hay espacios vacíos\n",
        "\n",
        "def es_valido(tablero, num, pos):\n",
        "    fila, col = pos\n",
        "\n",
        "    # Verificar fila\n",
        "    for j in range(9):\n",
        "        if tablero[fila][j] == num and j != col:\n",
        "            return False\n",
        "\n",
        "    # Verificar columna\n",
        "    for i in range(9):\n",
        "        if tablero[i][col] == num and i != fila:\n",
        "            return False\n",
        "\n",
        "    # Verificar subcuadro 3x3\n",
        "    caja_x = col // 3\n",
        "    caja_y = fila // 3\n",
        "\n",
        "    for i in range(caja_y * 3, caja_y * 3 + 3):\n",
        "        for j in range(caja_x * 3, caja_x * 3 + 3):\n",
        "            if tablero[i][j] == num and (i, j) != pos:\n",
        "                return False\n",
        "\n",
        "    return True\n",
        "\n",
        "def resolver_sudoku(tablero):\n",
        "    vacio = encontrar_vacio(tablero)\n",
        "    if not vacio:\n",
        "        return True  # No hay más vacíos, sudoku resuelto\n",
        "\n",
        "    fila, col = vacio\n",
        "\n",
        "    for num in range(1, 10):\n",
        "        if es_valido(tablero, num, (fila, col)):\n",
        "            tablero[fila][col] = num  # Intentar con este número\n",
        "\n",
        "            if resolver_sudoku(tablero):  # Llamada recursiva\n",
        "                return True\n",
        "\n",
        "            tablero[fila][col] = 0  # Backtrack (deshacer)\n",
        "\n",
        "    return False  # Ningún número fue válido\n",
        "\n",
        "tablero = [\n",
        "    [5, 3, 0, 0, 7, 0, 0, 0, 0],\n",
        "    [6, 0, 0, 1, 9, 5, 0, 0, 0],\n",
        "    [0, 9, 8, 0, 0, 0, 0, 6, 0],\n",
        "    [8, 0, 0, 0, 6, 0, 0, 0, 3],\n",
        "    [4, 0, 0, 8, 0, 3, 0, 0, 1],\n",
        "    [7, 0, 0, 0, 2, 0, 0, 0, 6],\n",
        "    [0, 6, 0, 0, 0, 0, 2, 8, 0],\n",
        "    [0, 0, 0, 4, 1, 9, 0, 0, 5],\n",
        "    [0, 0, 0, 0, 8, 0, 0, 7, 9]\n",
        "]\n",
        "\n",
        "print(\"Tablero original:\")\n",
        "imprimir_tablero(tablero)\n",
        "\n",
        "if resolver_sudoku(tablero):\n",
        "    print(\"\\nSudoku resuelto:\")\n",
        "    imprimir_tablero(tablero)\n",
        "else:\n",
        "    print(\"No se pudo resolver el Sudoku.\")\n"
      ],
      "metadata": {
        "colab": {
          "base_uri": "https://localhost:8080/"
        },
        "id": "bPMAmJhmpMcE",
        "outputId": "325b71e4-e49a-44e6-b4b0-5a6811666eaa"
      },
      "execution_count": null,
      "outputs": [
        {
          "output_type": "stream",
          "name": "stdout",
          "text": [
            "Tablero original:\n",
            "[5, 3, 0, 0, 7, 0, 0, 0, 0]\n",
            "[6, 0, 0, 1, 9, 5, 0, 0, 0]\n",
            "[0, 9, 8, 0, 0, 0, 0, 6, 0]\n",
            "[8, 0, 0, 0, 6, 0, 0, 0, 3]\n",
            "[4, 0, 0, 8, 0, 3, 0, 0, 1]\n",
            "[7, 0, 0, 0, 2, 0, 0, 0, 6]\n",
            "[0, 6, 0, 0, 0, 0, 2, 8, 0]\n",
            "[0, 0, 0, 4, 1, 9, 0, 0, 5]\n",
            "[0, 0, 0, 0, 8, 0, 0, 7, 9]\n",
            "\n",
            "Sudoku resuelto:\n",
            "[5, 3, 4, 6, 7, 8, 9, 1, 2]\n",
            "[6, 7, 2, 1, 9, 5, 3, 4, 8]\n",
            "[1, 9, 8, 3, 4, 2, 5, 6, 7]\n",
            "[8, 5, 9, 7, 6, 1, 4, 2, 3]\n",
            "[4, 2, 6, 8, 5, 3, 7, 9, 1]\n",
            "[7, 1, 3, 9, 2, 4, 8, 5, 6]\n",
            "[9, 6, 1, 5, 3, 7, 2, 8, 4]\n",
            "[2, 8, 7, 4, 1, 9, 6, 3, 5]\n",
            "[3, 4, 5, 2, 8, 6, 1, 7, 9]\n"
          ]
        }
      ]
    },
    {
      "cell_type": "code",
      "source": [],
      "metadata": {
        "id": "rf69rXeTpjXb"
      },
      "execution_count": null,
      "outputs": []
    }
  ]
}